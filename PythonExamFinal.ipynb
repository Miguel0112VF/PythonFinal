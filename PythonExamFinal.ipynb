{
 "cells": [
  {
   "cell_type": "code",
   "execution_count": 16,
   "metadata": {},
   "outputs": [],
   "source": [
    "string = 'ATTTGGATT' #This just puts a label on the string I'm working with. \n",
    "#observed = what we did in class with the other string \n",
    "#possbible = ideally all the shits are there"
   ]
  },
  {
   "cell_type": "code",
   "execution_count": 17,
   "metadata": {},
   "outputs": [
    {
     "data": {
      "text/plain": [
       "9"
      ]
     },
     "execution_count": 17,
     "metadata": {},
     "output_type": "execute_result"
    }
   ],
   "source": [
    "len(string) #this is to see how many bases are in the given string "
   ]
  },
  {
   "cell_type": "code",
   "execution_count": 18,
   "metadata": {},
   "outputs": [],
   "source": [
    "k = \"1, 2, 3 , 4, 5, 6, 7, 8, 9\" #this is the length of each substring "
   ]
  },
  {
   "cell_type": "code",
   "execution_count": 19,
   "metadata": {},
   "outputs": [
    {
     "name": "stdout",
     "output_type": "stream",
     "text": [
      "1, 2, 3 , 4, 5, 6, 7, 8, 9\n"
     ]
    }
   ],
   "source": [
    "print(k) #this prints the k values "
   ]
  },
  {
   "cell_type": "code",
   "execution_count": 20,
   "metadata": {},
   "outputs": [
    {
     "name": "stdout",
     "output_type": "stream",
     "text": [
      "AT\n",
      "TT\n",
      "TT\n",
      "TG\n",
      "GG\n",
      "GA\n",
      "AT\n",
      "TT\n"
     ]
    }
   ],
   "source": [
    "for i in range(0,len(string)-1):\n",
    "    print(string[i:i+2])\n",
    "#this gives us the k 2 substrings. This is the observed seeing as there are 5 types of unique substrings here. \n",
    "#the -1 removes the additional incomplete 2 length substring "
   ]
  },
  {
   "cell_type": "code",
   "execution_count": 21,
   "metadata": {},
   "outputs": [
    {
     "name": "stdout",
     "output_type": "stream",
     "text": [
      "Number of observed 2-length substrings: 5\n"
     ]
    }
   ],
   "source": [
    "string = \"ATTTGGATT\"\n",
    "\n",
    "unique_substrings = set() #set is used to make an empy set of values \"unique_substrings\"\n",
    "for i in range(0, len(string)-1):\n",
    "    substring = string[i:i+2]\n",
    "    if len(substring) == 2 and not substring.endswith(\" \"):\n",
    "        unique_substrings.add(substring) #this adds the amount of unique substrings if the length of substring is exactly 2 \"if len(substring) == 2 and not substring.endswith(\" \")\"\n",
    "        # and if the substring does not end with an empty space. \n",
    "        #this will be the same for all of the other times I use this code, but with different numbers\n",
    "\n",
    "print(\"Number of observed 2-length substrings:\", len(unique_substrings))\n"
   ]
  },
  {
   "cell_type": "code",
   "execution_count": 22,
   "metadata": {},
   "outputs": [
    {
     "name": "stdout",
     "output_type": "stream",
     "text": [
      "A\n",
      "T\n",
      "T\n",
      "T\n",
      "G\n",
      "G\n",
      "A\n",
      "T\n",
      "T\n"
     ]
    }
   ],
   "source": [
    "for i in range(0,len(string)):\n",
    "    print(string[i:i+1]) \n",
    "#this gives us the k 1 substrings. It is the exact same as the ones above. "
   ]
  },
  {
   "cell_type": "code",
   "execution_count": 23,
   "metadata": {},
   "outputs": [
    {
     "name": "stdout",
     "output_type": "stream",
     "text": [
      "Number of observed 1-length substrings: 3\n"
     ]
    }
   ],
   "source": [
    "string = \"ATTTGGATT\"\n",
    "\n",
    "unique_substrings = set()\n",
    "for i in range(0, len(string)-1):\n",
    "    substring = string[i:i+1]\n",
    "    if len(substring) == 1 and not substring.endswith(\" \"):\n",
    "        unique_substrings.add(substring)\n",
    "\n",
    "print(\"Number of observed 1-length substrings:\", len(unique_substrings))\n"
   ]
  },
  {
   "cell_type": "code",
   "execution_count": 24,
   "metadata": {},
   "outputs": [
    {
     "name": "stdout",
     "output_type": "stream",
     "text": [
      "ATT\n",
      "TTT\n",
      "TTG\n",
      "TGG\n",
      "GGA\n",
      "GAT\n",
      "ATT\n"
     ]
    }
   ],
   "source": [
    "for i in range(0, len(string)-2):\n",
    "    print(string[i:i+3])\n",
    "#the minus 2 removes the additional incomplete three string substrings. It isn't necessary, but it looks cleaner "
   ]
  },
  {
   "cell_type": "code",
   "execution_count": 25,
   "metadata": {},
   "outputs": [
    {
     "name": "stdout",
     "output_type": "stream",
     "text": [
      "Number of observed 3-length substrings: 6\n"
     ]
    }
   ],
   "source": [
    "string = \"ATTTGGATT\"\n",
    "\n",
    "unique_substrings = set()\n",
    "for i in range(0, len(string)-2):\n",
    "    substring = string[i:i+3]\n",
    "    if len(substring) == 3 and not substring.endswith(\" \"):\n",
    "        unique_substrings.add(substring)\n",
    "\n",
    "print(\"Number of observed 3-length substrings:\", len(unique_substrings))"
   ]
  },
  {
   "cell_type": "code",
   "execution_count": 26,
   "metadata": {},
   "outputs": [
    {
     "name": "stdout",
     "output_type": "stream",
     "text": [
      "ATTT\n",
      "TTTG\n",
      "TTGG\n",
      "TGGA\n",
      "GGAT\n",
      "GATT\n"
     ]
    }
   ],
   "source": [
    "for i in range(0, len(string)-3):\n",
    "    print(string[i:i+4])"
   ]
  },
  {
   "cell_type": "code",
   "execution_count": 27,
   "metadata": {},
   "outputs": [
    {
     "name": "stdout",
     "output_type": "stream",
     "text": [
      "Number of observed 4-length substrings: 6\n"
     ]
    }
   ],
   "source": [
    "string = \"ATTTGGATT\"\n",
    "\n",
    "unique_substrings = set()\n",
    "for i in range(0, len(string)-3):\n",
    "    substring = string[i:i+4]\n",
    "    if len(substring) == 4 and not substring.endswith(\" \"):\n",
    "        unique_substrings.add(substring)\n",
    "\n",
    "print(\"Number of observed 4-length substrings:\", len(unique_substrings))"
   ]
  },
  {
   "cell_type": "code",
   "execution_count": 28,
   "metadata": {},
   "outputs": [
    {
     "name": "stdout",
     "output_type": "stream",
     "text": [
      "ATTTG\n",
      "TTTGG\n",
      "TTGGA\n",
      "TGGAT\n",
      "GGATT\n"
     ]
    }
   ],
   "source": [
    "for i in range(0, len(string)-4):\n",
    "    print(string[i:i+5])"
   ]
  },
  {
   "cell_type": "code",
   "execution_count": 29,
   "metadata": {},
   "outputs": [
    {
     "name": "stdout",
     "output_type": "stream",
     "text": [
      "Number of observed 5-length substrings: 5\n"
     ]
    }
   ],
   "source": [
    "string = \"ATTTGGATT\"\n",
    "\n",
    "unique_substrings = set()\n",
    "for i in range(0, len(string)-4):\n",
    "    substring = string[i:i+5]\n",
    "    if len(substring) == 5 and not substring.endswith(\" \"):\n",
    "        unique_substrings.add(substring)\n",
    "\n",
    "print(\"Number of observed 5-length substrings:\", len(unique_substrings))"
   ]
  },
  {
   "cell_type": "code",
   "execution_count": 30,
   "metadata": {},
   "outputs": [
    {
     "name": "stdout",
     "output_type": "stream",
     "text": [
      "ATTTGG\n",
      "TTTGGA\n",
      "TTGGAT\n",
      "TGGATT\n"
     ]
    }
   ],
   "source": [
    "for i in range(0, len(string)-5):\n",
    "    print(string[i:i+6])"
   ]
  },
  {
   "cell_type": "code",
   "execution_count": 31,
   "metadata": {},
   "outputs": [
    {
     "name": "stdout",
     "output_type": "stream",
     "text": [
      "Number of observed 6-length substrings: 4\n"
     ]
    }
   ],
   "source": [
    "string = \"ATTTGGATT\"\n",
    "\n",
    "unique_substrings = set()\n",
    "for i in range(0, len(string)-5):\n",
    "    substring = string[i:i+6]\n",
    "    if len(substring) == 6 and not substring.endswith(\" \"):\n",
    "        unique_substrings.add(substring)\n",
    "\n",
    "print(\"Number of observed 6-length substrings:\", len(unique_substrings))"
   ]
  },
  {
   "cell_type": "code",
   "execution_count": 32,
   "metadata": {},
   "outputs": [
    {
     "name": "stdout",
     "output_type": "stream",
     "text": [
      "ATTTGGA\n",
      "TTTGGAT\n",
      "TTGGATT\n"
     ]
    }
   ],
   "source": [
    "for i in range(0, len(string)-6):\n",
    "    print(string[i:i+7])"
   ]
  },
  {
   "cell_type": "code",
   "execution_count": 33,
   "metadata": {},
   "outputs": [
    {
     "name": "stdout",
     "output_type": "stream",
     "text": [
      "Number of observed 7-length substrings: 3\n"
     ]
    }
   ],
   "source": [
    "string = \"ATTTGGATT\"\n",
    "\n",
    "unique_substrings = set()\n",
    "for i in range(0, len(string)-6):\n",
    "    substring = string[i:i+7]\n",
    "    if len(substring) == 7 and not substring.endswith(\" \"):\n",
    "        unique_substrings.add(substring)\n",
    "\n",
    "print(\"Number of observed 7-length substrings:\", len(unique_substrings))"
   ]
  },
  {
   "cell_type": "code",
   "execution_count": 34,
   "metadata": {},
   "outputs": [
    {
     "name": "stdout",
     "output_type": "stream",
     "text": [
      "ATTTGGAT\n",
      "TTTGGATT\n"
     ]
    }
   ],
   "source": [
    "for i in range(0, len(string)-7):\n",
    "    print(string[i:i+8])"
   ]
  },
  {
   "cell_type": "code",
   "execution_count": 35,
   "metadata": {},
   "outputs": [
    {
     "name": "stdout",
     "output_type": "stream",
     "text": [
      "Number of observed 8-length substrings: 2\n"
     ]
    }
   ],
   "source": [
    "string = \"ATTTGGATT\"\n",
    "\n",
    "unique_substrings = set()\n",
    "for i in range(0, len(string)-7):\n",
    "    substring = string[i:i+8]\n",
    "    if len(substring) == 8 and not substring.endswith(\" \"):\n",
    "        unique_substrings.add(substring)\n",
    "\n",
    "print(\"Number of observed 8-length substrings:\", len(unique_substrings))"
   ]
  },
  {
   "cell_type": "code",
   "execution_count": 36,
   "metadata": {},
   "outputs": [
    {
     "name": "stdout",
     "output_type": "stream",
     "text": [
      "ATTTGGATT\n"
     ]
    }
   ],
   "source": [
    "for i in range(0, len(string)-8):\n",
    "    print(string[i:i+9])"
   ]
  },
  {
   "cell_type": "code",
   "execution_count": 37,
   "metadata": {},
   "outputs": [
    {
     "name": "stdout",
     "output_type": "stream",
     "text": [
      "Number of observed 9-length substrings: 0\n"
     ]
    }
   ],
   "source": [
    "string = \"ATTTGGATT\"\n",
    "\n",
    "unique_substrings = set()\n",
    "for i in range(0, len(string)-8):\n",
    "    substring = string[i:i+9]\n",
    "    if len(substring) == i and not substring.endswith(\" \"):\n",
    "        unique_substrings.add(substring)\n",
    "\n",
    "print(\"Number of observed 9-length substrings:\", len(unique_substrings))"
   ]
  },
  {
   "cell_type": "code",
   "execution_count": 38,
   "metadata": {},
   "outputs": [
    {
     "name": "stdout",
     "output_type": "stream",
     "text": [
      "A\n",
      "T\n",
      "T\n",
      "T\n",
      "G\n",
      "G\n",
      "A\n",
      "T\n",
      "T\n",
      "AT\n",
      "TT\n",
      "TT\n",
      "TG\n",
      "GG\n",
      "GA\n",
      "AT\n",
      "TT\n",
      "ATT\n",
      "TTT\n",
      "TTG\n",
      "TGG\n",
      "GGA\n",
      "GAT\n",
      "ATT\n",
      "ATTT\n",
      "TTTG\n",
      "TTGG\n",
      "TGGA\n",
      "GGAT\n",
      "GATT\n",
      "ATTTG\n",
      "TTTGG\n",
      "TTGGA\n",
      "TGGAT\n",
      "GGATT\n",
      "ATTTGG\n",
      "TTTGGA\n",
      "TTGGAT\n",
      "TGGATT\n",
      "ATTTGGA\n",
      "TTTGGAT\n",
      "TTGGATT\n",
      "ATTTGGAT\n",
      "TTTGGATT\n",
      "ATTTGGATT\n"
     ]
    }
   ],
   "source": [
    "string = 'ATTTGGATT'\n",
    "\n",
    "for j in range(1, len(string) + 1): #this is looking at the range from 1 to the full length of the string. The +1 is because it is non inclusive at the beckend. \n",
    "    for i in range(0, len(string) - j + 1): #j is the k value here that goes up per each loop. i is the position of the base in the string. \n",
    "        print(string[i:i+j]) \n",
    "#this is a generalized version of what I have coded for the string specific ones above. "
   ]
  },
  {
   "cell_type": "code",
   "execution_count": 39,
   "metadata": {},
   "outputs": [
    {
     "name": "stdout",
     "output_type": "stream",
     "text": [
      "Number of observed 1 -length substrings: 3\n",
      "Number of observed 2 -length substrings: 5\n",
      "Number of observed 3 -length substrings: 6\n",
      "Number of observed 4 -length substrings: 6\n",
      "Number of observed 5 -length substrings: 5\n",
      "Number of observed 6 -length substrings: 4\n",
      "Number of observed 7 -length substrings: 3\n",
      "Number of observed 8 -length substrings: 2\n",
      "Number of observed 9 -length substrings: 1\n"
     ]
    }
   ],
   "source": [
    "string = \"ATTTGGATT\"\n",
    "\n",
    "for k in range(1, len(string)+1): #the range of 1, len(string)+1 because the backend is non-inclusive\n",
    "    unique_substrings = set() #unique_substrings is to collect tghe number fo unique characters in eaach substring length. set() is an empty set \n",
    "    for i in range(0, len(string)-k+1): #this and the line below are the exact same as what I did above. The lettering is different, which is probably(definitely) not good. I'll work on that for the future and my professional career, but not for this becuase I just want this assignment to be over, and if I tried to fix that it would absolutely be my mortal folly. \n",
    "        substring = string[i:i+k]\n",
    "        if len(substring) == k and not substring.endswith(\" \"): #this is to remoev any incomplete substrings. \n",
    "            unique_substrings.add(substring) #this just adds the outputs to the list. \n",
    "    print(\"Number of observed\", k, \"-length substrings:\", len(unique_substrings))\n",
    "\n",
    "#This is to get the observed substring counts for each k length. Again, a general version for all of the garbage above. "
   ]
  },
  {
   "cell_type": "code",
   "execution_count": 40,
   "metadata": {},
   "outputs": [
    {
     "name": "stdout",
     "output_type": "stream",
     "text": [
      "1 4\n",
      "2 8\n",
      "3 7\n",
      "4 6\n",
      "5 5\n",
      "6 4\n",
      "7 3\n",
      "8 2\n",
      "9 1\n"
     ]
    }
   ],
   "source": [
    "for k in range(1, 9+1):\n",
    "    string = \"ATTTGGATT\"[:k] #this is the string sequence \n",
    "    a = 4**k #a is the first possible equation\n",
    "    b = len(\"ATTTGGATT\") - (k-1) #b is the second possible equation\n",
    "    if a > b: \n",
    "        print(k, b) #if a is greater than b use the equation b \n",
    "    else:\n",
    "        print(k, a) #if b is greater than a use the equation a \n",
    "#basically, just use the equation that results in a smaller number "
   ]
  },
  {
   "cell_type": "code",
   "execution_count": 41,
   "metadata": {},
   "outputs": [],
   "source": [
    "def get_observed_substrings(string):\n",
    "    substrings = set()\n",
    "    for j in range(1, len(string) + 1):\n",
    "        for i in range(0, len(string) - j + 1):\n",
    "            substrings.add(string[i:i+j])\n",
    "    return substrings\n",
    "#giving this code/seuqnce a name. This has already been commented on \n",
    "\n",
    "def get_possible_substrings(string):\n",
    "    for k in range(1, 9+1):\n",
    "        sub = string[:k]\n",
    "        a = 4**k\n",
    "        b = len(string) - (k-1)\n",
    "        if a > b:\n",
    "            print(k, b)\n",
    "        else:\n",
    "            print(k, a)\n",
    "#giving this code/sequence a name. This has already been commented on "
   ]
  },
  {
   "cell_type": "code",
   "execution_count": 42,
   "metadata": {},
   "outputs": [
    {
     "name": "stdout",
     "output_type": "stream",
     "text": [
      "Linguistic complexity: 0.875\n"
     ]
    }
   ],
   "source": [
    "def get_observed_substrings(string):\n",
    "    substrings = set()\n",
    "    for j in range(1, len(string) + 1):\n",
    "        for i in range(0, len(string) - j + 1):\n",
    "            substrings.add(string[i:i+j])\n",
    "    return substrings\n",
    "#giving this code/sequence a name. This has already been commented on \n",
    "\n",
    "def get_possible_substrings(string, k):\n",
    "    a = 4**k\n",
    "    b = len(string) - (k-1)\n",
    "    if a > b:\n",
    "        return b\n",
    "    else:\n",
    "        return a\n",
    "#giving this code/sequence a name. This has already been commented on \n",
    "    \n",
    "def calculate_linguistic_complexity(string):\n",
    "    observed_substrings = get_observed_substrings(string)\n",
    "    possible_substrings = sum([get_possible_substrings(string, k) for k in range(1, len(string) + 1)])\n",
    "    #the code above is to get the sum of the get_possible_substrings. Why do I need to do this for possible and not obseved? Only God knows \n",
    "    return len(observed_substrings) / possible_substrings #this is just the equation for linguistic complexity based off of the example on the assignment. \n",
    "\n",
    "string = \"ATTTGGATT\"\n",
    "linguistic_complexity = calculate_linguistic_complexity(string)\n",
    "print(\"Linguistic complexity:\", linguistic_complexity)\n"
   ]
  },
  {
   "cell_type": "code",
   "execution_count": 43,
   "metadata": {},
   "outputs": [],
   "source": [
    "import sys "
   ]
  },
  {
   "cell_type": "code",
   "execution_count": 44,
   "metadata": {},
   "outputs": [],
   "source": [
    "import pathlib #importing the datafile through pathlib. This is just the string I made up \n",
    "\n",
    "file_name = \"SequenceDataFile.txt\"\n",
    "file_path = pathlib.Path.cwd() / file_name\n",
    "g = file_path.read_text()"
   ]
  },
  {
   "cell_type": "code",
   "execution_count": 45,
   "metadata": {},
   "outputs": [
    {
     "name": "stdout",
     "output_type": "stream",
     "text": [
      "Observed count: 40\n",
      "Possible count: 40\n",
      "Linguistic complexity: 1.0\n"
     ]
    }
   ],
   "source": [
    "k = 2\n",
    "\n",
    "observed_substrings = get_observed_substrings(g)\n",
    "possible_substrings = sum([get_possible_substrings(g, k) for k in range(1, len(g) + 1)])\n",
    "linguistic_complexity_fortxt = calculate_linguistic_complexity(g)\n",
    "print(\"Observed count:\", len(observed_substrings))\n",
    "print(\"Possible count:\", possible_substrings)\n",
    "print(\"Linguistic complexity:\", linguistic_complexity_fortxt) #this is everythng done before, but for the string I made. "
   ]
  },
  {
   "cell_type": "code",
   "execution_count": null,
   "metadata": {},
   "outputs": [],
   "source": []
  }
 ],
 "metadata": {
  "kernelspec": {
   "display_name": "Python 3",
   "language": "python",
   "name": "python3"
  },
  "language_info": {
   "codemirror_mode": {
    "name": "ipython",
    "version": 3
   },
   "file_extension": ".py",
   "mimetype": "text/x-python",
   "name": "python",
   "nbconvert_exporter": "python",
   "pygments_lexer": "ipython3",
   "version": "3.6.8"
  }
 },
 "nbformat": 4,
 "nbformat_minor": 4
}
